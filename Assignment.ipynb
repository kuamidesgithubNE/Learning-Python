user = input("Enter your Name: ")

age = int(input("Enter your Age: "))

def getAge():
    return 2022 - age

print("Hello! " + user + " you were born in the year, " + str(getAge()))

